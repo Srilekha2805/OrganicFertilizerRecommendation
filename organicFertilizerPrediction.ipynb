{
 "cells": [
  {
   "cell_type": "code",
   "execution_count": null,
   "id": "8c4583e6",
   "metadata": {},
   "outputs": [],
   "source": [
    "import numpy as np\n",
    "import pandas as pd\n",
    "import seaborn as sns\n",
    "import matplotlib.pyplot as plt\n",
    "import warnings\n",
    "warnings.filterwarnings('ignore')"
   ]
  },
  {
   "cell_type": "code",
   "execution_count": null,
   "id": "6bb44577",
   "metadata": {},
   "outputs": [],
   "source": [
    "#Loads the dataset and reads the csv file\n",
    "Data_path = r\"Add your DatasetPath here\"\n",
    "df=pd.read_csv(Data_path)\n",
    "df.head()"
   ]
  },
  {
   "cell_type": "code",
   "execution_count": null,
   "id": "b073f05e",
   "metadata": {},
   "outputs": [],
   "source": [
    "#Lists out unique croptypes from dataframes formed\n",
    "print(df.CropType.unique())"
   ]
  },
  {
   "cell_type": "code",
   "execution_count": null,
   "id": "81558193",
   "metadata": {},
   "outputs": [],
   "source": [
    "#Lists out unique soilTypes from dataframes formed\n",
    "print(df.SoilType.unique())"
   ]
  },
  {
   "cell_type": "code",
   "execution_count": null,
   "id": "f28919ef",
   "metadata": {},
   "outputs": [],
   "source": [
    "#Creates a dictionary mapping for cropTypes within the dataframe\n",
    "dict1={ \"CropType\":{\"Barley\":1,\"Cotton\":2,\"Ground Nuts\":3,\"Maize\":4,\"Millets\":5,\"Oil seeds\":6,\"Paddy\":7,\"Pulses\":8,\"Sugarcane\":9,\"Wheat\":10}}\n",
    "df.replace(dict1,inplace=True)\n",
    "print(df)"
   ]
  },
  {
   "cell_type": "code",
   "execution_count": null,
   "id": "6ad1f0b8",
   "metadata": {},
   "outputs": [],
   "source": [
    "#Creates a dictionary mapping for soilTypes within the dataframe\n",
    "dict2={\"SoilType\":{\"Black\":1,\"Clayey\":2,\"Loamy\":3,\"Red\":4,\"Sandy\":5}}\n",
    "df.replace(dict2,inplace=True)\n",
    "print(df)"
   ]
  },
  {
   "cell_type": "code",
   "execution_count": null,
   "id": "399a98fd",
   "metadata": {},
   "outputs": [],
   "source": [
    "#Preparing our input columns for training by dropping FertilizerName column\n",
    "X=df.drop(columns=['FertilizerName'])\n",
    "X.head()"
   ]
  },
  {
   "cell_type": "code",
   "execution_count": null,
   "id": "5e99206a",
   "metadata": {},
   "outputs": [],
   "source": [
    "#Output column\n",
    "Y=df['FertilizerName']\n",
    "Y.head()"
   ]
  },
  {
   "cell_type": "code",
   "execution_count": null,
   "id": "5abfe87b",
   "metadata": {},
   "outputs": [],
   "source": [
    "#Random forest classifier model training and testing\n",
    "from sklearn.ensemble import RandomForestClassifier\n",
    "from sklearn.compose import make_column_transformer\n",
    "from sklearn.preprocessing import OneHotEncoder\n",
    "from sklearn.pipeline import make_pipeline\n",
    "pipe=RandomForestClassifier(n_estimators= 100, criterion = 'gini' , random_state= 42)"
   ]
  },
  {
   "cell_type": "code",
   "execution_count": null,
   "id": "d5462cb8",
   "metadata": {},
   "outputs": [],
   "source": [
    "from sklearn.model_selection import train_test_split\n",
    "X_train, X_test, y_train, y_test = train_test_split(X, Y, test_size = 0.2, random_state = 0)"
   ]
  },
  {
   "cell_type": "code",
   "execution_count": null,
   "id": "56a830d5",
   "metadata": {},
   "outputs": [],
   "source": [
    "print(X_train)\n"
   ]
  },
  {
   "cell_type": "code",
   "execution_count": null,
   "id": "118aed33",
   "metadata": {},
   "outputs": [],
   "source": [
    "datapoint = pd.DataFrame({\"Temparature\": [34], \"Humidity\": [65],\"Moisture\": [62],\"SoilType\":[\"Black\"],\"CropType\":[\"Cotton\"],\"Nitrogen\": [7],\"Potassium\": [9],\"Phosphorous\": [30]})\n",
    "datapoint.replace(dict1,inplace=True)\n",
    "datapoint.replace(dict2,inplace=True)\n",
    "print(datapoint)"
   ]
  },
  {
   "cell_type": "code",
   "execution_count": null,
   "id": "0577f2ea",
   "metadata": {},
   "outputs": [],
   "source": [
    "pipe.fit(X, Y)\n",
    "y_pred=pipe.predict(X_test)\n",
    "print(y_pred)"
   ]
  },
  {
   "cell_type": "code",
   "execution_count": null,
   "id": "393d24c0",
   "metadata": {},
   "outputs": [],
   "source": [
    "accuracy = []\n",
    "model = []"
   ]
  },
  {
   "cell_type": "code",
   "execution_count": null,
   "id": "45b91f4d",
   "metadata": {},
   "outputs": [],
   "source": [
    "from sklearn.metrics import confusion_matrix, accuracy_score\n",
    "acc2 = accuracy_score(y_test, y_pred)\n",
    "accuracy.append(acc2)\n",
    "model.append('Kernel random forest')\n",
    "print(\"Kernel random forest Accuracy :\", acc2)"
   ]
  },
  {
   "cell_type": "code",
   "execution_count": null,
   "id": "564d36a2",
   "metadata": {},
   "outputs": [],
   "source": [
    "#Pickle package to dump the trained model to be used by streamlit UI\n",
    "import pickle\n",
    "filename=\"trained_model.sav\"\n",
    "pickle.dump(pipe,open(filename,'wb'))"
   ]
  },
  {
   "cell_type": "code",
   "execution_count": null,
   "id": "5ce6c86c",
   "metadata": {},
   "outputs": [],
   "source": [
    "loaded_model = pickle.load(open('trained_model.sav','rb'))"
   ]
  },
  {
   "cell_type": "code",
   "execution_count": null,
   "id": "1ce0af9f",
   "metadata": {},
   "outputs": [],
   "source": [
    "datapoint = pd.DataFrame({\"Temparature\": [34], \"Humidity\": [65],\"Moisture\": [62],\"SoilType\":[\"Black\"],\"CropType\":[\"Cotton\"],\"Nitrogen\": [7],\"Potassium\": [9],\"Phosphorous\": [30]})\n",
    "\n",
    "datapoint.replace(dict1,inplace=True)\n",
    "datapoint.replace(dict2,inplace=True)\n",
    "prediction=loaded_model.predict(datapoint)\n",
    "print(prediction)"
   ]
  }
 ],
 "metadata": {
  "kernelspec": {
   "display_name": "Python 3 (ipykernel)",
   "language": "python",
   "name": "python3"
  },
  "language_info": {
   "codemirror_mode": {
    "name": "ipython",
    "version": 3
   },
   "file_extension": ".py",
   "mimetype": "text/x-python",
   "name": "python",
   "nbconvert_exporter": "python",
   "pygments_lexer": "ipython3",
   "version": "3.9.7"
  }
 },
 "nbformat": 4,
 "nbformat_minor": 5
}
